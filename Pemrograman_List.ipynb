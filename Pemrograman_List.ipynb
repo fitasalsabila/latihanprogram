{
  "nbformat": 4,
  "nbformat_minor": 0,
  "metadata": {
    "colab": {
      "provenance": [],
      "authorship_tag": "ABX9TyO3D5c3YRKNCk9AoWskXV1j",
      "include_colab_link": true
    },
    "kernelspec": {
      "name": "python3",
      "display_name": "Python 3"
    },
    "language_info": {
      "name": "python"
    }
  },
  "cells": [
    {
      "cell_type": "markdown",
      "metadata": {
        "id": "view-in-github",
        "colab_type": "text"
      },
      "source": [
        "<a href=\"https://colab.research.google.com/github/fitasalsabila/latihanprogram/blob/main/Pemrograman_List.ipynb\" target=\"_parent\"><img src=\"https://colab.research.google.com/assets/colab-badge.svg\" alt=\"Open In Colab\"/></a>"
      ]
    },
    {
      "cell_type": "code",
      "source": [
        "my_list =[1,2,3,4,5,6,7,8,9,10]\n",
        "my_list.append(5)\n",
        "print(my_list)"
      ],
      "metadata": {
        "colab": {
          "base_uri": "https://localhost:8080/"
        },
        "id": "e6JVyx7PB3kw",
        "outputId": "5d0ee656-d4cb-49c4-f89c-c0c1eab0ffad"
      },
      "execution_count": 5,
      "outputs": [
        {
          "output_type": "stream",
          "name": "stdout",
          "text": [
            "[1, 2, 3, 4, 5, 6, 7, 8, 9, 10, 5]\n"
          ]
        }
      ]
    },
    {
      "cell_type": "code",
      "source": [
        "my_list =[1,2,3,4,5,6,7,8,9,10]\n",
        "my_list.remove(4)\n",
        "print(my_list)\n"
      ],
      "metadata": {
        "colab": {
          "base_uri": "https://localhost:8080/"
        },
        "id": "HfhWRrusDDZV",
        "outputId": "3e136c86-57e7-4bfc-c821-76e75157506a"
      },
      "execution_count": 6,
      "outputs": [
        {
          "output_type": "stream",
          "name": "stdout",
          "text": [
            "[1, 2, 3, 5, 6, 7, 8, 9, 10]\n"
          ]
        }
      ]
    },
    {
      "cell_type": "code",
      "source": [
        "my_list =[1,2,3,4,5,6,7,8,9,10]\n",
        "split_index = 5\n",
        "first_part = my_list[:split_index]\n",
        "second_part = my_list[split_index:]\n",
        "print(first_part)\n",
        "print(second_part)"
      ],
      "metadata": {
        "colab": {
          "base_uri": "https://localhost:8080/"
        },
        "id": "sYSynLifDmxI",
        "outputId": "2d646b02-0639-4582-9f0b-5325cf429a22"
      },
      "execution_count": 8,
      "outputs": [
        {
          "output_type": "stream",
          "name": "stdout",
          "text": [
            "[1, 2, 3, 4, 5]\n",
            "[6, 7, 8, 9, 10]\n"
          ]
        }
      ]
    },
    {
      "cell_type": "code",
      "source": [
        "my_list =[1,2,3,4,5,6,7,8,9,10]\n",
        "split_index = 3\n",
        "first_part = my_list[:3]\n",
        "second_part = my_list[4:6]\n",
        "third_part = my_list[:7]\n",
        "print(\"Bagian Pertama\",first_part)\n",
        "print(\"Bagian Kedua\", second_part)\n",
        "print(\"Bagian ketiga\", third_part)"
      ],
      "metadata": {
        "colab": {
          "base_uri": "https://localhost:8080/"
        },
        "id": "51AwljwNF55c",
        "outputId": "16a8728e-fc2a-4f3a-d441-fed836993319"
      },
      "execution_count": 14,
      "outputs": [
        {
          "output_type": "stream",
          "name": "stdout",
          "text": [
            "Bagian Pertama [1, 2, 3]\n",
            "Bagian Kedua [5, 6]\n",
            "Bagian ketiga [1, 2, 3, 4, 5, 6, 7]\n"
          ]
        }
      ]
    },
    {
      "cell_type": "code",
      "source": [
        "my_list =[1,2,3,4,5,6,7,8,9,10]\n",
        "my_list.reverse()\n",
        "print(my_list)"
      ],
      "metadata": {
        "colab": {
          "base_uri": "https://localhost:8080/"
        },
        "id": "th6Gp5_CNuAF",
        "outputId": "9ffc6114-d364-458e-8864-d1c55e72b99d"
      },
      "execution_count": 16,
      "outputs": [
        {
          "output_type": "stream",
          "name": "stdout",
          "text": [
            "[10, 9, 8, 7, 6, 5, 4, 3, 2, 1]\n"
          ]
        }
      ]
    },
    {
      "cell_type": "code",
      "source": [
        "my_list =[1,2,3,4,5,6,7,8,9,10]\n",
        "sliced_list1 = my_list[0:6:3]\n",
        "print(sliced_list1)"
      ],
      "metadata": {
        "colab": {
          "base_uri": "https://localhost:8080/"
        },
        "id": "LeeZExl3FvDz",
        "outputId": "15eab8e7-2b8e-420b-d67e-d54bb2e5553c"
      },
      "execution_count": 18,
      "outputs": [
        {
          "output_type": "stream",
          "name": "stdout",
          "text": [
            "[1, 4]\n"
          ]
        }
      ]
    }
  ]
}